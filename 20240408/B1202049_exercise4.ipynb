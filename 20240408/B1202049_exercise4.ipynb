{
  "nbformat": 4,
  "nbformat_minor": 0,
  "metadata": {
    "colab": {
      "provenance": []
    },
    "kernelspec": {
      "name": "python3",
      "display_name": "Python 3"
    },
    "language_info": {
      "name": "python"
    }
  },
  "cells": [
    {
      "cell_type": "code",
      "execution_count": 7,
      "metadata": {
        "colab": {
          "base_uri": "https://localhost:8080/"
        },
        "id": "QpiGdwj2ksQQ",
        "outputId": "ca3834f1-bde6-4c0d-953d-a4a3132aa6b8"
      },
      "outputs": [
        {
          "output_type": "stream",
          "name": "stdout",
          "text": [
            "身高1.6\n",
            "體重55\n",
            "21.484374999999996\n",
            "適中\n"
          ]
        }
      ],
      "source": [
        "a = float(input(\"身高\"))\n",
        "b = float(input(\"體重\"))\n",
        "\n",
        "c = b/a**2\n",
        "\n",
        "print(c)\n",
        "\n",
        "if c<18.5:\n",
        "  print(\"過輕\")\n",
        "\n",
        "elif 18.5 <= c and c < 24:\n",
        "  print(\"適中\")\n",
        "\n",
        "elif 24 <= c and c < 27:\n",
        "  print(\"過重\")\n",
        "\n",
        "else:\n",
        "  print(\"肥胖\")\n"
      ]
    },
    {
      "cell_type": "code",
      "source": [
        "a = float(input(\"輸入第一個數字\"))\n",
        "c = input(\"輸入運算符號\")\n",
        "b = float(input(\"輸入第二個數字\"))\n",
        "\n",
        "if c==\"+\":\n",
        "  x=a+b\n",
        "elif c==\"-\":\n",
        "  x=a-b\n",
        "elif c==\"*\":\n",
        "  x=a*b\n",
        "else:\n",
        "  x=a/b\n",
        "\n",
        "print(x)\n"
      ],
      "metadata": {
        "colab": {
          "base_uri": "https://localhost:8080/"
        },
        "id": "YilZ6pT2nEEp",
        "outputId": "fdbf1251-df15-428e-9455-c93811c30a5a"
      },
      "execution_count": 9,
      "outputs": [
        {
          "output_type": "stream",
          "name": "stdout",
          "text": [
            "輸入第一個數字59\n",
            "輸入運算符號*\n",
            "輸入第二個數字76\n",
            "4484.0\n"
          ]
        }
      ]
    }
  ]
}