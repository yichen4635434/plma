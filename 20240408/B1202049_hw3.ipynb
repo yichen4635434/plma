{
  "nbformat": 4,
  "nbformat_minor": 0,
  "metadata": {
    "colab": {
      "provenance": []
    },
    "kernelspec": {
      "name": "python3",
      "display_name": "Python 3"
    },
    "language_info": {
      "name": "python"
    }
  },
  "cells": [
    {
      "cell_type": "code",
      "execution_count": 1,
      "metadata": {
        "colab": {
          "base_uri": "https://localhost:8080/"
        },
        "id": "u2JzeYWVppfv",
        "outputId": "d00241d1-2b64-4e61-b318-630b2639345a"
      },
      "outputs": [
        {
          "output_type": "stream",
          "name": "stdout",
          "text": [
            "輸入年分1400\n",
            "閏年\n"
          ]
        }
      ],
      "source": [
        "y = int(input(\"輸入年份\"))\n",
        "\n",
        "if y > 1582:\n",
        "\n",
        "  if y%400==0:\n",
        "    print(\"閏年\")\n",
        "\n",
        "  elif y%4==0 and y%100!=0:\n",
        "    print(\"閏年\")\n",
        "\n",
        "  else:\n",
        "    print(\"平年\")\n",
        "\n",
        "elif y%4==0:\n",
        "  print(\"閏年\")\n",
        "\n",
        "else:\n",
        "  print(\"平年\")"
      ]
    }
  ]
}