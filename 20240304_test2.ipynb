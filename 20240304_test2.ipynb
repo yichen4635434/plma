{
  "nbformat": 4,
  "nbformat_minor": 0,
  "metadata": {
    "colab": {
      "provenance": []
    },
    "kernelspec": {
      "name": "python3",
      "display_name": "Python 3"
    },
    "language_info": {
      "name": "python"
    }
  },
  "cells": [
    {
      "cell_type": "code",
      "source": [
        "x = 2\n",
        "y = 1\n",
        "\n",
        "a=2*x+y\n",
        "b=100-y\n",
        "z = a*b\n",
        "print(\"Ans:\", z)"
      ],
      "metadata": {
        "colab": {
          "base_uri": "https://localhost:8080/"
        },
        "id": "tx6o7QMveIox",
        "outputId": "bf54a81c-64b2-48cf-a177-2148be637b9c"
      },
      "execution_count": null,
      "outputs": [
        {
          "output_type": "stream",
          "name": "stdout",
          "text": [
            "Ans: 495\n"
          ]
        }
      ]
    },
    {
      "cell_type": "code",
      "source": [
        "y = 4\n",
        "\n",
        "a=2*y+1\n",
        "b=100/a\n",
        "\n",
        "print(\"Ans:\", b)"
      ],
      "metadata": {
        "colab": {
          "base_uri": "https://localhost:8080/"
        },
        "id": "7OHlkDGwfEXK",
        "outputId": "e263772d-fe79-489f-d834-9b6745c005f3"
      },
      "execution_count": null,
      "outputs": [
        {
          "output_type": "stream",
          "name": "stdout",
          "text": [
            "Ans: 11.11111111111111\n"
          ]
        }
      ]
    }
  ]
}