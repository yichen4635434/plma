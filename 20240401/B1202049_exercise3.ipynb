{
  "nbformat": 4,
  "nbformat_minor": 0,
  "metadata": {
    "colab": {
      "provenance": []
    },
    "kernelspec": {
      "name": "python3",
      "display_name": "Python 3"
    },
    "language_info": {
      "name": "python"
    }
  },
  "cells": [
    {
      "cell_type": "code",
      "execution_count": 9,
      "metadata": {
        "colab": {
          "base_uri": "https://localhost:8080/"
        },
        "id": "x23w8VLxfbtu",
        "outputId": "bab4d103-eeaf-41b0-f2db-1072fea47024"
      },
      "outputs": [
        {
          "output_type": "stream",
          "name": "stdout",
          "text": [
            "88.33333333333333\n",
            "{'姓名': '賴宏瑋', '性別': '男', '學號': 'M1129020'}\n",
            "95.0\n",
            "{'姓名': '許珈綺', '性別': '女', '學號': 'M1229001'}\n"
          ]
        }
      ],
      "source": [
        "dict1 = {\n",
        "    \"姓名\":\"賴宏瑋\",\n",
        "    \"性別\":\"男\",\n",
        "    \"作業分數\":[95,100,90]\n",
        "    }\n",
        "dict2 = {\"學號\":\"M1129020\"}\n",
        "\n",
        "dict3={**dict1, **dict2}\n",
        "import copy\n",
        "dict4 = copy.deepcopy(dict3)\n",
        "dict3[\"作業分數\"][1] = 80\n",
        "\n",
        "dict4[\"姓名\"] = \"許珈綺\"\n",
        "dict4[\"性別\"] = \"女\"\n",
        "dict4[\"學號\"] = \"M1229001\"\n",
        "\n",
        "a = dict3.pop(\"作業分數\")\n",
        "avg1 = sum(a)/len(a)\n",
        "print(avg1)\n",
        "print(dict3)\n",
        "\n",
        "b = dict4.pop(\"作業分數\")\n",
        "avg2 = sum(b)/len(b)\n",
        "print(avg2)\n",
        "print(dict4)"
      ]
    },
    {
      "cell_type": "code",
      "source": [
        "a = [100, 50, 45, 60, 90, 95, 80, 50]\n",
        "a = [88]+a[:2]+[70, 50]+a[5:]\n",
        "\n",
        "a.remove(50)\n",
        "b = a.pop(0)\n",
        "c = a.pop(-1)\n",
        "\n",
        "total = b+c+sum(a)\n",
        "print(total)"
      ],
      "metadata": {
        "colab": {
          "base_uri": "https://localhost:8080/"
        },
        "id": "5o5HoeBxf4Az",
        "outputId": "8aedcf65-7730-4b98-b7c5-4ac8908cc039"
      },
      "execution_count": 2,
      "outputs": [
        {
          "output_type": "stream",
          "name": "stdout",
          "text": [
            "533\n"
          ]
        }
      ]
    },
    {
      "cell_type": "code",
      "source": [
        "x = 347\n",
        "y = 3\n",
        "a = x//y\n",
        "b = x%y\n",
        "\n",
        "print(\"A:\",a)\n",
        "print(\"B:\",b)\n",
        "\n",
        "c = a**b\n",
        "print(\"A的B次方:\",c)"
      ],
      "metadata": {
        "colab": {
          "base_uri": "https://localhost:8080/"
        },
        "id": "TA3-8RB2hc98",
        "outputId": "83c73953-dd2e-4709-c62b-83a313078064"
      },
      "execution_count": 1,
      "outputs": [
        {
          "output_type": "stream",
          "name": "stdout",
          "text": [
            "A: 115\n",
            "B: 2\n",
            "A的B次方: 13225\n"
          ]
        }
      ]
    }
  ]
}