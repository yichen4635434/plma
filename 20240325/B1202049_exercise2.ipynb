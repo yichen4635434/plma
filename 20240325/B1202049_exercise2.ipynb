{
  "nbformat": 4,
  "nbformat_minor": 0,
  "metadata": {
    "colab": {
      "provenance": []
    },
    "kernelspec": {
      "name": "python3",
      "display_name": "Python 3"
    },
    "language_info": {
      "name": "python"
    }
  },
  "cells": [
    {
      "cell_type": "code",
      "execution_count": null,
      "metadata": {
        "id": "Ep1VcbuZfRzF"
      },
      "outputs": [],
      "source": []
    },
    {
      "cell_type": "code",
      "source": [
        "a = {'姓名':'賴宏瑋','性別':'男','作業分數':[80,95,100,90]}\n",
        "a['學號']='M1129020'\n",
        "a['作業分數'][1]=100\n",
        "\n",
        "del a['作業分數'][0]\n",
        "print(a)\n",
        "\n",
        "b = list(a['作業分數'])\n",
        "avg = sum(b)/len(b)\n",
        "print(avg)"
      ],
      "metadata": {
        "colab": {
          "base_uri": "https://localhost:8080/"
        },
        "id": "7E-P8zrphrx4",
        "outputId": "04aaca13-a9ac-4e8d-fbd4-33f522b92408"
      },
      "execution_count": 4,
      "outputs": [
        {
          "output_type": "stream",
          "name": "stdout",
          "text": [
            "{'姓名': '賴宏瑋', '性別': '男', '作業分數': [100, 100, 90], '學號': 'M1129020'}\n",
            "96.66666666666667\n"
          ]
        }
      ]
    }
  ]
}