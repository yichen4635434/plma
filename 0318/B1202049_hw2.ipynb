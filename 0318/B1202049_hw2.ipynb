{
  "nbformat": 4,
  "nbformat_minor": 0,
  "metadata": {
    "colab": {
      "provenance": []
    },
    "kernelspec": {
      "name": "python3",
      "display_name": "Python 3"
    },
    "language_info": {
      "name": "python"
    }
  },
  "cells": [
    {
      "cell_type": "code",
      "execution_count": 3,
      "metadata": {
        "colab": {
          "base_uri": "https://localhost:8080/"
        },
        "id": "vtlkKVs7duE0",
        "outputId": "31a6af39-1c40-4543-82c6-149786c65caa"
      },
      "outputs": [
        {
          "output_type": "stream",
          "name": "stdout",
          "text": [
            "A\n",
            "['K', 'H', 'U']\n"
          ]
        }
      ],
      "source": [
        "a = 'C,B,A'\n",
        "b = ['F','G','H']\n",
        "\n",
        "str1 = a.split(',')\n",
        "str2 = str1 + b\n",
        "\n",
        "str2[0] = 'K'\n",
        "print(str2.pop(2))\n",
        "del str2[1:4]\n",
        "str2.append('U')\n",
        "\n",
        "print(str2)"
      ]
    },
    {
      "cell_type": "code",
      "source": [
        "a = input(\"輸入八個數字：\")\n",
        "print(a[-4])"
      ],
      "metadata": {
        "colab": {
          "base_uri": "https://localhost:8080/"
        },
        "id": "A50iq4hSfB9I",
        "outputId": "603738b7-9414-45d6-d860-c232b007bf9c"
      },
      "execution_count": 6,
      "outputs": [
        {
          "output_type": "stream",
          "name": "stdout",
          "text": [
            "輸入八個數字：12345678\n",
            "5\n"
          ]
        }
      ]
    },
    {
      "cell_type": "code",
      "source": [
        "a = \"My ID is B1202049\"\n",
        "b = a.split(' ')\n",
        "print(len(b))\n",
        "\n",
        "c = b.pop(-1)\n",
        "\n",
        "print(len(c))"
      ],
      "metadata": {
        "colab": {
          "base_uri": "https://localhost:8080/"
        },
        "id": "vkWENeNmhT6Y",
        "outputId": "f909a15a-30ea-4aa2-f986-39d5aa6fd2ee"
      },
      "execution_count": 12,
      "outputs": [
        {
          "output_type": "stream",
          "name": "stdout",
          "text": [
            "4\n",
            "8\n"
          ]
        }
      ]
    },
    {
      "cell_type": "code",
      "source": [
        "a = \"I'm a student\"\n",
        "b = a.split()\n",
        "\n",
        "print(b[0][2])"
      ],
      "metadata": {
        "colab": {
          "base_uri": "https://localhost:8080/"
        },
        "id": "UmCafcl2iHBi",
        "outputId": "8aea40d5-2565-41df-dc68-ea8c4194f735"
      },
      "execution_count": 18,
      "outputs": [
        {
          "output_type": "stream",
          "name": "stdout",
          "text": [
            "m\n"
          ]
        }
      ]
    }
  ]
}