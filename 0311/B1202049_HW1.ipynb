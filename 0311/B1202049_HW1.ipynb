{
  "nbformat": 4,
  "nbformat_minor": 0,
  "metadata": {
    "colab": {
      "provenance": []
    },
    "kernelspec": {
      "name": "python3",
      "display_name": "Python 3"
    },
    "language_info": {
      "name": "python"
    }
  },
  "cells": [
    {
      "cell_type": "code",
      "execution_count": null,
      "metadata": {
        "colab": {
          "base_uri": "https://localhost:8080/"
        },
        "id": "l5t4FaNxlr7f",
        "outputId": "3e7015ff-22db-4cc7-95fb-802a52077be5"
      },
      "outputs": [
        {
          "output_type": "stream",
          "name": "stdout",
          "text": [
            "I'm a student.\n"
          ]
        }
      ],
      "source": [
        "a = \"I'm a student.\"\n",
        "\n",
        "print(a)"
      ]
    },
    {
      "cell_type": "code",
      "source": [
        "a = float(input(\"x1:\"))\n",
        "b = float(input(\"x2:\"))\n",
        "c = float(input(\"y1:\"))\n",
        "d = float(input(\"y2:\"))\n",
        "\n",
        "b-=a\n",
        "d-=c\n",
        "\n",
        "b*=b\n",
        "d*=d\n",
        "\n",
        "d+=b\n",
        "\n",
        "print(d**0.5)"
      ],
      "metadata": {
        "colab": {
          "base_uri": "https://localhost:8080/"
        },
        "id": "ROVn7eH1m5Nh",
        "outputId": "9b541de6-3ec7-4f2c-f5a7-c151b010ba48"
      },
      "execution_count": 11,
      "outputs": [
        {
          "output_type": "stream",
          "name": "stdout",
          "text": [
            "x1:3\n",
            "x2:0\n",
            "y1:0\n",
            "y2:4\n",
            "5.0\n"
          ]
        }
      ]
    },
    {
      "cell_type": "code",
      "source": [
        "a = int(input(\"身高(cm):\"))\n",
        "b = int(input(\"體重(kg):\"))\n",
        "\n",
        "a/=100\n",
        "\n",
        "BMI = b/(a*a)\n",
        "print(BMI)"
      ],
      "metadata": {
        "id": "OBXhuLd0qOsQ",
        "colab": {
          "base_uri": "https://localhost:8080/"
        },
        "outputId": "d219e1d5-e191-4cab-c3bc-aebf80a4750e"
      },
      "execution_count": 15,
      "outputs": [
        {
          "output_type": "stream",
          "name": "stdout",
          "text": [
            "身高(cm):170\n",
            "體重(kg):70\n",
            "24.221453287197235\n"
          ]
        }
      ]
    }
  ]
}