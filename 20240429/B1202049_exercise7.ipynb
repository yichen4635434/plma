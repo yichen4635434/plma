{
  "nbformat": 4,
  "nbformat_minor": 0,
  "metadata": {
    "colab": {
      "provenance": []
    },
    "kernelspec": {
      "name": "python3",
      "display_name": "Python 3"
    },
    "language_info": {
      "name": "python"
    }
  },
  "cells": [
    {
      "cell_type": "code",
      "execution_count": 1,
      "metadata": {
        "colab": {
          "base_uri": "https://localhost:8080/"
        },
        "id": "LAiEG7Dxu7dw",
        "outputId": "4d5ed7d1-f666-41e2-f313-ad0ff2baaeb5"
      },
      "outputs": [
        {
          "output_type": "stream",
          "name": "stdout",
          "text": [
            "         *\n",
            "        ***\n",
            "       *****\n",
            "      *******\n",
            "     *********\n",
            "    ***********\n",
            "   *************\n",
            "  ***************\n",
            " *****************\n",
            "        ***\n",
            "        ***\n",
            "        ***\n",
            "        ***\n",
            "        ***\n"
          ]
        }
      ],
      "source": [
        "h=9\n",
        "for i in range(h):\n",
        "  print((' '*(h-i))+('*')*((2*i)+1))\n",
        "r=5\n",
        "for i in range(r):\n",
        "  print((' '*8)+('*')*3)"
      ]
    },
    {
      "cell_type": "code",
      "source": [
        "def calculate_bmi(h,w):\n",
        "    try:\n",
        "        h = float(h)\n",
        "        w = float(w)\n",
        "    except ValueError:\n",
        "        raise ValueError(\"輸入內容錯誤\")\n",
        "    h = h / 100\n",
        "    bmi = w / (h ** 2)\n",
        "\n",
        "    if bmi < 18.5:\n",
        "        result = \"過輕\"\n",
        "    elif 18.5 <= bmi < 24:\n",
        "        result = \"適中\"\n",
        "    elif 24 <= bmi < 27:\n",
        "        result = \"過重\"\n",
        "    else:\n",
        "        result = \"肥胖\"\n",
        "\n",
        "    return bmi, result\n",
        "if __name__ == \"__main__\":\n",
        "    try:\n",
        "        h = input(\"請輸入身高(公分)：\")\n",
        "        w = input(\"請輸入體重：\")\n",
        "        bmi, result = calculate_bmi(h,w)\n",
        "        print(f\"BMI:{bmi}\")\n",
        "        print(f\"體位:{result}\")\n",
        "    except ValueError as e:\n",
        "        print(e)"
      ],
      "metadata": {
        "colab": {
          "base_uri": "https://localhost:8080/"
        },
        "id": "8I-yWJ090Wv7",
        "outputId": "6379e8d8-8086-4849-821f-463ce85958f9"
      },
      "execution_count": 3,
      "outputs": [
        {
          "output_type": "stream",
          "name": "stdout",
          "text": [
            "請輸入身高(公分)：160\n",
            "請輸入體重：s\n",
            "輸入內容錯誤\n"
          ]
        }
      ]
    }
  ]
}